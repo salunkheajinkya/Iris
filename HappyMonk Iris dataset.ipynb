{
 "cells": [
  {
   "cell_type": "markdown",
   "metadata": {},
   "source": [
    "# Find F1 score and accuracy score"
   ]
  },
  {
   "cell_type": "code",
   "execution_count": 1,
   "metadata": {},
   "outputs": [],
   "source": [
    "import pandas as pd\n",
    "from sklearn.model_selection import train_test_split\n",
    "from sklearn.metrics import precision_score, recall_score, confusion_matrix, classification_report, accuracy_score, f1_score\n",
    "\n",
    "#Feature Selection Libraries\n",
    "from sklearn.feature_selection import RFE\n",
    "from sklearn.linear_model import LogisticRegression\n",
    "\n",
    "# ML Libraries (Random Forest, Naive Bayes, SVM)\n",
    "from sklearn.ensemble import RandomForestClassifier, VotingClassifier\n",
    "from sklearn.naive_bayes import GaussianNB\n",
    "from sklearn.svm import SVC\n",
    " \n",
    "# Evaluation Metrics\n",
    "from yellowbrick.classifier import ClassificationReport\n",
    "from sklearn import metrics"
   ]
  },
  {
   "cell_type": "code",
   "execution_count": 2,
   "metadata": {},
   "outputs": [
    {
     "data": {
      "text/html": [
       "<div>\n",
       "<style scoped>\n",
       "    .dataframe tbody tr th:only-of-type {\n",
       "        vertical-align: middle;\n",
       "    }\n",
       "\n",
       "    .dataframe tbody tr th {\n",
       "        vertical-align: top;\n",
       "    }\n",
       "\n",
       "    .dataframe thead th {\n",
       "        text-align: right;\n",
       "    }\n",
       "</style>\n",
       "<table border=\"1\" class=\"dataframe\">\n",
       "  <thead>\n",
       "    <tr style=\"text-align: right;\">\n",
       "      <th></th>\n",
       "      <th>Id</th>\n",
       "      <th>SepalLengthCm</th>\n",
       "      <th>SepalWidthCm</th>\n",
       "      <th>PetalLengthCm</th>\n",
       "      <th>PetalWidthCm</th>\n",
       "      <th>Species</th>\n",
       "    </tr>\n",
       "  </thead>\n",
       "  <tbody>\n",
       "    <tr>\n",
       "      <td>0</td>\n",
       "      <td>1</td>\n",
       "      <td>5.1</td>\n",
       "      <td>3.5</td>\n",
       "      <td>1.4</td>\n",
       "      <td>0.2</td>\n",
       "      <td>Iris-setosa</td>\n",
       "    </tr>\n",
       "    <tr>\n",
       "      <td>1</td>\n",
       "      <td>2</td>\n",
       "      <td>4.9</td>\n",
       "      <td>3.0</td>\n",
       "      <td>1.4</td>\n",
       "      <td>0.2</td>\n",
       "      <td>Iris-setosa</td>\n",
       "    </tr>\n",
       "    <tr>\n",
       "      <td>2</td>\n",
       "      <td>3</td>\n",
       "      <td>4.7</td>\n",
       "      <td>3.2</td>\n",
       "      <td>1.3</td>\n",
       "      <td>0.2</td>\n",
       "      <td>Iris-setosa</td>\n",
       "    </tr>\n",
       "    <tr>\n",
       "      <td>3</td>\n",
       "      <td>4</td>\n",
       "      <td>4.6</td>\n",
       "      <td>3.1</td>\n",
       "      <td>1.5</td>\n",
       "      <td>0.2</td>\n",
       "      <td>Iris-setosa</td>\n",
       "    </tr>\n",
       "    <tr>\n",
       "      <td>4</td>\n",
       "      <td>5</td>\n",
       "      <td>5.0</td>\n",
       "      <td>3.6</td>\n",
       "      <td>1.4</td>\n",
       "      <td>0.2</td>\n",
       "      <td>Iris-setosa</td>\n",
       "    </tr>\n",
       "  </tbody>\n",
       "</table>\n",
       "</div>"
      ],
      "text/plain": [
       "   Id  SepalLengthCm  SepalWidthCm  PetalLengthCm  PetalWidthCm      Species\n",
       "0   1            5.1           3.5            1.4           0.2  Iris-setosa\n",
       "1   2            4.9           3.0            1.4           0.2  Iris-setosa\n",
       "2   3            4.7           3.2            1.3           0.2  Iris-setosa\n",
       "3   4            4.6           3.1            1.5           0.2  Iris-setosa\n",
       "4   5            5.0           3.6            1.4           0.2  Iris-setosa"
      ]
     },
     "execution_count": 2,
     "metadata": {},
     "output_type": "execute_result"
    }
   ],
   "source": [
    "#Read Iris Dataset into DataFrame & Print sample dataset\n",
    "df = pd.read_csv('Iris.csv', error_bad_lines=False)\n",
    "df.head()"
   ]
  },
  {
   "cell_type": "code",
   "execution_count": 3,
   "metadata": {},
   "outputs": [
    {
     "name": "stdout",
     "output_type": "stream",
     "text": [
      "<class 'pandas.core.frame.DataFrame'>\n",
      "RangeIndex: 150 entries, 0 to 149\n",
      "Data columns (total 6 columns):\n",
      "Id               150 non-null int64\n",
      "SepalLengthCm    150 non-null float64\n",
      "SepalWidthCm     150 non-null float64\n",
      "PetalLengthCm    150 non-null float64\n",
      "PetalWidthCm     150 non-null float64\n",
      "Species          150 non-null object\n",
      "dtypes: float64(4), int64(1), object(1)\n",
      "memory usage: 7.2+ KB\n"
     ]
    }
   ],
   "source": [
    "#Check if NA Exist\n",
    "df.info()"
   ]
  },
  {
   "cell_type": "code",
   "execution_count": 4,
   "metadata": {},
   "outputs": [],
   "source": [
    "#Drop unusable Attributes: ID\n",
    "#Reason: ID is the unique identifier that directly linked to each instance, which makes it not meaningful for training\n",
    "df = df.drop(['Id'], axis=1)\n"
   ]
  },
  {
   "cell_type": "code",
   "execution_count": 5,
   "metadata": {},
   "outputs": [
    {
     "data": {
      "text/plain": [
       "array(['Iris-setosa', 'Iris-versicolor', 'Iris-virginica'], dtype=object)"
      ]
     },
     "execution_count": 5,
     "metadata": {},
     "output_type": "execute_result"
    }
   ],
   "source": [
    "#Display Target Class\n",
    "df['Species'].unique()"
   ]
  },
  {
   "cell_type": "code",
   "execution_count": 6,
   "metadata": {},
   "outputs": [
    {
     "data": {
      "text/plain": [
       "array([0, 1, 2], dtype=int64)"
      ]
     },
     "execution_count": 6,
     "metadata": {},
     "output_type": "execute_result"
    }
   ],
   "source": [
    "#Encode labels into categorical variables:\n",
    "df['Species'] = pd.factorize(df[\"Species\"])[0] \n",
    "Target = 'Species'\n",
    "df['Species'].unique()"
   ]
  },
  {
   "cell_type": "code",
   "execution_count": 7,
   "metadata": {},
   "outputs": [
    {
     "name": "stdout",
     "output_type": "stream",
     "text": [
      "Full Features:  ['SepalLengthCm', 'SepalWidthCm', 'PetalLengthCm', 'PetalWidthCm']\n"
     ]
    }
   ],
   "source": [
    "#Define Full Feature Set\n",
    "Features = ['SepalLengthCm', 'SepalWidthCm', 'PetalLengthCm', 'PetalWidthCm']\n",
    "print('Full Features: ', Features)"
   ]
  },
  {
   "cell_type": "code",
   "execution_count": 8,
   "metadata": {},
   "outputs": [
    {
     "name": "stdout",
     "output_type": "stream",
     "text": [
      "Number of Features Selected : 2\n",
      "Feature Ranking             : [3 2 1 1]\n",
      "Selected Features           : [False False  True  True]\n",
      "Selected Features           : ['SepalWidthCm', 'PetalLengthCm', 'PetalWidthCm']\n"
     ]
    }
   ],
   "source": [
    "# Feature Selection using Recursive Feature Elimination\n",
    "# Split Dataframe to target class and features\n",
    "X_fs = df[Features]\n",
    "Y_fs = df[Target]\n",
    "  \n",
    "# Feature Selection Model Fitting\n",
    "model = LogisticRegression(solver='lbfgs', multi_class='auto')\n",
    "\n",
    "#Mark the Number of Features to be selected, Adjust this Number to enhance the Model Performance\n",
    "rfe = RFE(model, ) \n",
    "fit = rfe.fit(X_fs, Y_fs)\n",
    "\n",
    "print(\"Number of Features Selected : %s\" % (fit.n_features_))\n",
    "print(\"Feature Ranking             : %s\" % (fit.ranking_))\n",
    "print(\"Selected Features           : %s\" % (fit.support_))\n",
    "\n",
    "# At Current Point, the attributes is select manually based on Feature Selection Part. \n",
    "Features = ['SepalWidthCm', 'PetalLengthCm', 'PetalWidthCm']\n",
    "print(\"Selected Features           :\", Features)\n"
   ]
  },
  {
   "cell_type": "code",
   "execution_count": 9,
   "metadata": {},
   "outputs": [
    {
     "name": "stdout",
     "output_type": "stream",
     "text": [
      "Feature Set Used    :  ['SepalWidthCm', 'PetalLengthCm', 'PetalWidthCm']\n",
      "Target Class        :  Species\n",
      "Training Set Size   :  (120, 5)\n",
      "Test Set Size       :  (30, 5)\n"
     ]
    }
   ],
   "source": [
    "#Split dataset to Training Set & Test Set\n",
    "x, y = train_test_split(df, \n",
    "                        test_size = 0.2, \n",
    "                        train_size = 0.8, \n",
    "                        random_state= 3)\n",
    "\n",
    "x1 = x[Features]    #Features to train\n",
    "x2 = x[Target]      #Target Class to train\n",
    "y1 = y[Features]    #Features to test\n",
    "y2 = y[Target]      #Target Class to test\n",
    "\n",
    "print('Feature Set Used    : ', Features)\n",
    "print('Target Class        : ', Target)\n",
    "print('Training Set Size   : ', x.shape)\n",
    "print('Test Set Size       : ', y.shape)"
   ]
  },
  {
   "cell_type": "markdown",
   "metadata": {},
   "source": [
    "** Machine Learning Model **"
   ]
  },
  {
   "cell_type": "code",
   "execution_count": 10,
   "metadata": {},
   "outputs": [],
   "source": [
    "# Gaussian Naive Bayes\n",
    "# Create Model with configuration\n",
    "nb_model = GaussianNB() \n",
    "\n",
    "# Model Training\n",
    "nb_model.fit(X=x1, y=x2)\n",
    "\n",
    "# Prediction with Test Set\n",
    "result= nb_model.predict(y[Features]) "
   ]
  },
  {
   "cell_type": "code",
   "execution_count": 11,
   "metadata": {},
   "outputs": [
    {
     "name": "stdout",
     "output_type": "stream",
     "text": [
      "========== Naive Bayes Results ==========\n",
      "Accuracy    :  1.0\n",
      "Recall      :  1.0\n",
      "Precision   :  1.0\n",
      "F1 Score    :  1.0\n",
      "Confusion Matrix: \n",
      "[[10  0  0]\n",
      " [ 0 10  0]\n",
      " [ 0  0 10]]\n"
     ]
    }
   ],
   "source": [
    "# Model Evaluation\n",
    "ac_sc = accuracy_score(y2, result)\n",
    "rc_sc = recall_score(y2, result, average=\"weighted\")\n",
    "pr_sc = precision_score(y2, result, average=\"weighted\")\n",
    "f1_sc = f1_score(y2, result, average='micro')\n",
    "confusion_m = confusion_matrix(y2, result)\n",
    "\n",
    "print(\"========== Naive Bayes Results ==========\")\n",
    "print(\"Accuracy    : \", ac_sc)\n",
    "print(\"Recall      : \", rc_sc)\n",
    "print(\"Precision   : \", pr_sc)\n",
    "print(\"F1 Score    : \", f1_sc)\n",
    "print(\"Confusion Matrix: \")\n",
    "print(confusion_m)"
   ]
  },
  {
   "cell_type": "code",
   "execution_count": 12,
   "metadata": {},
   "outputs": [
    {
     "name": "stdout",
     "output_type": "stream",
     "text": [
      "================= Classification Report =================\n",
      "\n",
      "                 precision    recall  f1-score   support\n",
      "\n",
      "    Iris-setosa       1.00      1.00      1.00        10\n",
      "Iris-versicolor       1.00      1.00      1.00        10\n",
      " Iris-virginica       1.00      1.00      1.00        10\n",
      "\n",
      "       accuracy                           1.00        30\n",
      "      macro avg       1.00      1.00      1.00        30\n",
      "   weighted avg       1.00      1.00      1.00        30\n",
      "\n"
     ]
    },
    {
     "name": "stderr",
     "output_type": "stream",
     "text": [
      "C:\\Users\\admin\\Anaconda3\\lib\\site-packages\\sklearn\\base.py:451: UserWarning: X does not have valid feature names, but GaussianNB was fitted with feature names\n",
      "  \"X does not have valid feature names, but\"\n"
     ]
    },
    {
     "data": {
      "image/png": "[encoded data removed]",
      "text/plain": [
       "<Figure size 432x288 with 2 Axes>"
      ]
     },
     "metadata": {
      "needs_background": "light"
     },
     "output_type": "display_data"
    }
   ],
   "source": [
    "# Classification Report\n",
    "# Instantiate the classification model and visualizer\n",
    "target_names = ['Iris-setosa', 'Iris-versicolor', 'Iris-virginica']\n",
    "visualizer = ClassificationReport(nb_model, classes=target_names)\n",
    "visualizer.fit(X=x1, y=x2)     # Fit the training data to the visualizer\n",
    "visualizer.score(y1, y2)       # Evaluate the model on the test data\n",
    "\n",
    "print('================= Classification Report =================')\n",
    "print('')\n",
    "print(classification_report(y2, result, target_names=target_names))\n",
    "\n",
    "g = visualizer.poof()             # Draw/show/poof the data"
   ]
  },
  {
   "cell_type": "code",
   "execution_count": 13,
   "metadata": {},
   "outputs": [],
   "source": [
    "# Random Forest\n",
    "# Create Model with configuration\n",
    "rf_model = RandomForestClassifier(n_estimators=70, # Number of trees\n",
    "                                  min_samples_split = 30,\n",
    "                                  bootstrap = True, \n",
    "                                  max_depth = 50, \n",
    "                                  min_samples_leaf = 25)\n",
    "\n",
    "# Model Training\n",
    "rf_model.fit(X=x1,\n",
    "             y=x2)\n",
    "\n",
    "# Prediction\n",
    "result = rf_model.predict(y[Features])"
   ]
  },
  {
   "cell_type": "code",
   "execution_count": 14,
   "metadata": {},
   "outputs": [
    {
     "name": "stdout",
     "output_type": "stream",
     "text": [
      "========== Random Forest Results ==========\n",
      "Accuracy    :  0.9666666666666667\n",
      "Recall      :  0.9666666666666667\n",
      "Precision   :  0.9696969696969696\n",
      "F1 Score    :  0.9666666666666667\n",
      "Confusion Matrix: \n",
      "[[10  0  0]\n",
      " [ 0 10  0]\n",
      " [ 0  1  9]]\n"
     ]
    }
   ],
   "source": [
    "# Model Evaluation\n",
    "ac_sc = accuracy_score(y2, result)\n",
    "rc_sc = recall_score(y2, result, average=\"weighted\")\n",
    "pr_sc = precision_score(y2, result, average=\"weighted\")\n",
    "f1_sc = f1_score(y2, result, average='micro')\n",
    "confusion_m = confusion_matrix(y2, result)\n",
    "\n",
    "print(\"========== Random Forest Results ==========\")\n",
    "print(\"Accuracy    : \", ac_sc)\n",
    "print(\"Recall      : \", rc_sc)\n",
    "print(\"Precision   : \", pr_sc)\n",
    "print(\"F1 Score    : \", f1_sc)\n",
    "print(\"Confusion Matrix: \")\n",
    "print(confusion_m)"
   ]
  },
  {
   "cell_type": "code",
   "execution_count": 15,
   "metadata": {},
   "outputs": [
    {
     "name": "stdout",
     "output_type": "stream",
     "text": [
      "================= Classification Report =================\n",
      "\n",
      "                 precision    recall  f1-score   support\n",
      "\n",
      "    Iris-setosa       1.00      1.00      1.00        10\n",
      "Iris-versicolor       0.91      1.00      0.95        10\n",
      " Iris-virginica       1.00      0.90      0.95        10\n",
      "\n",
      "       accuracy                           0.97        30\n",
      "      macro avg       0.97      0.97      0.97        30\n",
      "   weighted avg       0.97      0.97      0.97        30\n",
      "\n"
     ]
    },
    {
     "name": "stderr",
     "output_type": "stream",
     "text": [
      "C:\\Users\\admin\\Anaconda3\\lib\\site-packages\\sklearn\\base.py:451: UserWarning: X does not have valid feature names, but RandomForestClassifier was fitted with feature names\n",
      "  \"X does not have valid feature names, but\"\n"
     ]
    },
    {
     "data": {
      "image/png": "[encoded data removed]",
      "text/plain": [
       "<Figure size 432x288 with 2 Axes>"
      ]
     },
     "metadata": {
      "needs_background": "light"
     },
     "output_type": "display_data"
    }
   ],
   "source": [
    "# Classification Report\n",
    "# Instantiate the classification model and visualizer\n",
    "target_names = ['Iris-setosa', 'Iris-versicolor', 'Iris-virginica']\n",
    "visualizer = ClassificationReport(rf_model, classes=target_names)\n",
    "visualizer.fit(X=x1, y=x2)     # Fit the training data to the visualizer\n",
    "visualizer.score(y1, y2)       # Evaluate the model on the test data\n",
    "\n",
    "print('================= Classification Report =================')\n",
    "print('')\n",
    "print(classification_report(y2, result, target_names=target_names))\n",
    "\n",
    "g = visualizer.poof()             # Draw/show/poof the data"
   ]
  },
  {
   "cell_type": "code",
   "execution_count": 16,
   "metadata": {},
   "outputs": [],
   "source": [
    "# Support Vector Machine\n",
    "# Create Model with configuration\n",
    "svm_model = SVC(kernel='linear')\n",
    "\n",
    "# Model Training\n",
    "svm_model.fit(X=x1, y=x2)  \n",
    "\n",
    "# Prediction\n",
    "result = svm_model.predict(y[Features])  "
   ]
  },
  {
   "cell_type": "code",
   "execution_count": 17,
   "metadata": {},
   "outputs": [
    {
     "name": "stdout",
     "output_type": "stream",
     "text": [
      "============= SVM Results =============\n",
      "Accuracy    :  0.9666666666666667\n",
      "Recall      :  0.9666666666666667\n",
      "Precision   :  0.9696969696969696\n",
      "F1 Score    :  0.9666666666666667\n",
      "Confusion Matrix: \n",
      "[[10  0  0]\n",
      " [ 0  9  1]\n",
      " [ 0  0 10]]\n"
     ]
    }
   ],
   "source": [
    "# Model Evaluation\n",
    "ac_sc = accuracy_score(y2, result)\n",
    "rc_sc = recall_score(y2, result, average=\"weighted\")\n",
    "pr_sc = precision_score(y2, result, average=\"weighted\")\n",
    "f1_sc = f1_score(y2, result, average='micro')\n",
    "confusion_m = confusion_matrix(y2, result)\n",
    "\n",
    "print(\"============= SVM Results =============\")\n",
    "print(\"Accuracy    : \", ac_sc)\n",
    "print(\"Recall      : \", rc_sc)\n",
    "print(\"Precision   : \", pr_sc)\n",
    "print(\"F1 Score    : \", f1_sc)\n",
    "print(\"Confusion Matrix: \")\n",
    "print(confusion_m)"
   ]
  },
  {
   "cell_type": "code",
   "execution_count": 18,
   "metadata": {},
   "outputs": [
    {
     "name": "stdout",
     "output_type": "stream",
     "text": [
      "================= Classification Report =================\n",
      "\n",
      "                 precision    recall  f1-score   support\n",
      "\n",
      "    Iris-setosa       1.00      1.00      1.00        10\n",
      "Iris-versicolor       1.00      0.90      0.95        10\n",
      " Iris-virginica       0.91      1.00      0.95        10\n",
      "\n",
      "       accuracy                           0.97        30\n",
      "      macro avg       0.97      0.97      0.97        30\n",
      "   weighted avg       0.97      0.97      0.97        30\n",
      "\n"
     ]
    },
    {
     "name": "stderr",
     "output_type": "stream",
     "text": [
      "C:\\Users\\admin\\Anaconda3\\lib\\site-packages\\sklearn\\base.py:451: UserWarning: X does not have valid feature names, but SVC was fitted with feature names\n",
      "  \"X does not have valid feature names, but\"\n"
     ]
    },
    {
     "data": {
      "image/png": "[encoded data removed]",
      "text/plain": [
       "<Figure size 432x288 with 2 Axes>"
      ]
     },
     "metadata": {
      "needs_background": "light"
     },
     "output_type": "display_data"
    }
   ],
   "source": [
    "# Classification Report\n",
    "# Instantiate the classification model and visualizer\n",
    "target_names = ['Iris-setosa', 'Iris-versicolor', 'Iris-virginica']\n",
    "visualizer = ClassificationReport(svm_model, classes=target_names)\n",
    "visualizer.fit(X=x1, y=x2)     # Fit the training data to the visualizer\n",
    "visualizer.score(y1, y2)       # Evaluate the model on the Test Set\n",
    "\n",
    "print('================= Classification Report =================')\n",
    "print('')\n",
    "print(classification_report(y2, result, target_names=target_names))\n",
    "\n",
    "g = visualizer.poof()             # Draw/show/poof the data"
   ]
  },
  {
   "cell_type": "code",
   "execution_count": 19,
   "metadata": {},
   "outputs": [],
   "source": [
    "# Ensemble Voting Model\n",
    "# Combine 3 Models to create an Ensemble Model\n",
    "\n",
    "# Create Model with configuration\n",
    "eclf1 = VotingClassifier(estimators=[('svm', svm_model), ('rf', rf_model), ('gnb', nb_model)], \n",
    "                         weights=[1,1,1],\n",
    "                         flatten_transform=True)\n",
    "eclf1 = eclf1.fit(X=x1, y=x2)   \n",
    "\n",
    "# Prediction\n",
    "result = eclf1.predict(y[Features])"
   ]
  },
  {
   "cell_type": "code",
   "execution_count": 20,
   "metadata": {},
   "outputs": [
    {
     "name": "stdout",
     "output_type": "stream",
     "text": [
      "============= Ensemble Voting Results =============\n",
      "Accuracy    :  0.9666666666666667\n",
      "Recall      :  0.9666666666666667\n",
      "Precision   :  0.9696969696969696\n",
      "F1 Score    :  0.9666666666666667\n",
      "Confusion Matrix: \n",
      "[[10  0  0]\n",
      " [ 0  9  1]\n",
      " [ 0  0 10]]\n"
     ]
    }
   ],
   "source": [
    "# Model Evaluation\n",
    "ac_sc = accuracy_score(y2, result)\n",
    "rc_sc = recall_score(y2, result, average=\"weighted\")\n",
    "pr_sc = precision_score(y2, result, average=\"weighted\")\n",
    "f1_sc = f1_score(y2, result, average='micro')\n",
    "confusion_m = confusion_matrix(y2, result)\n",
    "\n",
    "print(\"============= Ensemble Voting Results =============\")\n",
    "print(\"Accuracy    : \", ac_sc)\n",
    "print(\"Recall      : \", rc_sc)\n",
    "print(\"Precision   : \", pr_sc)\n",
    "print(\"F1 Score    : \", f1_sc)\n",
    "print(\"Confusion Matrix: \")\n",
    "print(confusion_m)"
   ]
  },
  {
   "cell_type": "code",
   "execution_count": 21,
   "metadata": {},
   "outputs": [
    {
     "name": "stdout",
     "output_type": "stream",
     "text": [
      "================= Classification Report =================\n",
      "\n",
      "                 precision    recall  f1-score   support\n",
      "\n",
      "    Iris-setosa       1.00      1.00      1.00        10\n",
      "Iris-versicolor       1.00      0.90      0.95        10\n",
      " Iris-virginica       0.91      1.00      0.95        10\n",
      "\n",
      "       accuracy                           0.97        30\n",
      "      macro avg       0.97      0.97      0.97        30\n",
      "   weighted avg       0.97      0.97      0.97        30\n",
      "\n"
     ]
    },
    {
     "name": "stderr",
     "output_type": "stream",
     "text": [
      "C:\\Users\\admin\\Anaconda3\\lib\\site-packages\\sklearn\\base.py:451: UserWarning: X does not have valid feature names, but SVC was fitted with feature names\n",
      "  \"X does not have valid feature names, but\"\n",
      "C:\\Users\\admin\\Anaconda3\\lib\\site-packages\\sklearn\\base.py:451: UserWarning: X does not have valid feature names, but RandomForestClassifier was fitted with feature names\n",
      "  \"X does not have valid feature names, but\"\n",
      "C:\\Users\\admin\\Anaconda3\\lib\\site-packages\\sklearn\\base.py:451: UserWarning: X does not have valid feature names, but GaussianNB was fitted with feature names\n",
      "  \"X does not have valid feature names, but\"\n"
     ]
    },
    {
     "data": {
      "image/png": "[encoded data removed]",
      "text/plain": [
       "<Figure size 432x288 with 2 Axes>"
      ]
     },
     "metadata": {
      "needs_background": "light"
     },
     "output_type": "display_data"
    }
   ],
   "source": [
    "# Classification Report\n",
    "# Instantiate the classification model and visualizer\n",
    "target_names = ['Iris-setosa', 'Iris-versicolor', 'Iris-virginica']\n",
    "visualizer = ClassificationReport(eclf1, classes=target_names)\n",
    "visualizer.fit(X=x1, y=x2)     # Fit the training data to the visualizer\n",
    "visualizer.score(y1, y2)       # Evaluate the model on the test data\n",
    "\n",
    "print('================= Classification Report =================')\n",
    "print('')\n",
    "print(classification_report(y2, result, target_names=target_names))\n",
    "\n",
    "g = visualizer.poof()             # Draw/show/poof the data"
   ]
  },
  {
   "cell_type": "code",
   "execution_count": null,
   "metadata": {},
   "outputs": [],
   "source": []
  }
 ],
 "metadata": {
  "kernelspec": {
   "display_name": "Python 3",
   "language": "python",
   "name": "python3"
  },
  "language_info": {
   "codemirror_mode": {
    "name": "ipython",
    "version": 3
   },
   "file_extension": ".py",
   "mimetype": "text/x-python",
   "name": "python",
   "nbconvert_exporter": "python",
   "pygments_lexer": "ipython3",
   "version": "3.7.3"
  }
 },
 "nbformat": 4,
 "nbformat_minor": 1
}
